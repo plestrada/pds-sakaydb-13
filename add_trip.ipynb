{
 "cells": [
  {
   "cell_type": "markdown",
   "id": "d7e81059",
   "metadata": {},
   "source": [
    "### Adding a single trip to the database\n",
    "Create a method `add_trip` that accepts the following parameters:\n",
    "\n",
    "* `driver` : trip driver as a string in `Last name`, `Given name` format\n",
    "* `pickup_datetime` : datetime of pickup as string with format `\"hh:mm:ss,DD-MM-YYYY\"`\n",
    "* `dropoff_datetime` : datetime of dropoff as string with format `\"hh:mm:ss,DD-MM-YYYY\"`\n",
    "* `passenger_count` : number of passengers as integer\n",
    "* `pickup_loc_name` : zone as a string, (e.g., Pine View, Legazpi Village)\n",
    "* `dropoff_loc_name` : zone as a string, (e.g., Pine View, Legazpi Village)\n",
    "* `trip_distance` : distance in meters (float)\n",
    "* `fare_amount` : amount paid by passenger (float)\n",
    "\n",
    "The method should append the trip data to the end of `trips.csv` , if it exists, or creates it, otherwise.\n",
    "\n",
    "The `trip_id` is last `trip_id` in the file + 1, or `1` if there's no trip in the file yet.\n",
    "\n",
    "The `driver_id` is the corresponding `driver_id` in `drivers.csv` based on the case-insensitive matches of `given_name` and `last_name` . It should append the driver in\n",
    "drivers.csv if the driver is not yet there. The `driver_id` of a new driver is _last driver_id in the file_ + 1, or `1` if there's no driver in the file yet. The method should\n",
    "return the `trip_id` or raise a `SakayDBError` exception if the trip is already in `trips.csv`. A trip is said to be in `trips.csv` if there is a trip that matches the `driver` (case-insensitive), `pickup_datetime`, `dropoff_datetime`, `passenger_count`, `pickup_loc_id`, `dropoff_loc_id`, `trip_distance` and `fare_amount`."
   ]
  },
  {
   "cell_type": "code",
   "execution_count": 1,
   "id": "c8ffb891",
   "metadata": {
    "ExecuteTime": {
     "end_time": "2022-09-04T15:30:33.267520Z",
     "start_time": "2022-09-04T15:30:32.907282Z"
    },
    "tags": [
     "hide-input"
    ]
   },
   "outputs": [],
   "source": [
    "import numpy as np\n",
    "import pandas as pd\n",
    "\n",
    "import os.path\n",
    "from pathlib import Path\n"
   ]
  },
  {
   "cell_type": "code",
   "execution_count": 2,
   "id": "1023aff3",
   "metadata": {
    "ExecuteTime": {
     "end_time": "2022-09-04T15:30:34.044150Z",
     "start_time": "2022-09-04T15:30:34.039919Z"
    }
   },
   "outputs": [],
   "source": [
    "def check_create_file(filename, columns):\n",
    "    if not os.path.exists(filename):\n",
    "        with open(filename, mode='w', encoding='utf-8') as f:\n",
    "            f.write(','.join(columns) + '\\n')\n",
    "    return\n"
   ]
  },
  {
   "cell_type": "code",
   "execution_count": 3,
   "id": "2ac2602a",
   "metadata": {
    "ExecuteTime": {
     "end_time": "2022-09-04T15:30:34.820483Z",
     "start_time": "2022-09-04T15:30:34.813187Z"
    }
   },
   "outputs": [],
   "source": [
    "def get_driver_id(driver):\n",
    "    last_name, given_name = [x.strip() for x in driver.split(',')]\n",
    "    \n",
    "    fn = 'drivers_test.csv'\n",
    "    df_drivers = pd.read_csv(fn)\n",
    "    cond = ((df_drivers['given_name'].str.lower() == given_name.lower()) &\n",
    "            (df_drivers['last_name'].str.lower() == last_name.lower()))\n",
    "\n",
    "    if cond.any():\n",
    "        driver_id = df_drivers[cond]['driver_id'].item()\n",
    "        return driver_id\n",
    "    else:\n",
    "        return None\n"
   ]
  },
  {
   "cell_type": "code",
   "execution_count": 4,
   "id": "3f810662",
   "metadata": {
    "ExecuteTime": {
     "end_time": "2022-09-04T15:30:35.745151Z",
     "start_time": "2022-09-04T15:30:35.741009Z"
    }
   },
   "outputs": [],
   "source": [
    "def get_loc_id(location):\n",
    "    fn = 'locations.csv'\n",
    "    df_locations = pd.read_csv(fn)\n",
    "    cond = (df_locations['loc_name'].str.lower() == location.lower())\n",
    "    \n",
    "    if cond.any():\n",
    "        loc_id = df_locations[cond]['location_id'].item()\n",
    "        return loc_id\n",
    "    else:\n",
    "        return None\n"
   ]
  },
  {
   "cell_type": "code",
   "execution_count": 5,
   "id": "4774dba7",
   "metadata": {
    "ExecuteTime": {
     "end_time": "2022-09-04T15:30:36.580015Z",
     "start_time": "2022-09-04T15:30:36.573690Z"
    }
   },
   "outputs": [],
   "source": [
    "def get_trip_id(driver, pickup_datetime, dropoff_datetime, passenger_count,\n",
    "                pickup_loc_name, dropoff_loc_name, trip_distance, fare_amount):\n",
    "    fn = 'trips_test.csv'\n",
    "    df_trips = pd.read_csv(fn)\n",
    "    cond = ((df_trips['driver_id'] == get_driver_id(driver)) &\n",
    "            (df_trips['pickup_datetime'] == pickup_datetime) &\n",
    "            (df_trips['dropoff_datetime'] == dropoff_datetime) &\n",
    "            (df_trips['passenger_count'] == passenger_count) &\n",
    "            (df_trips['pickup_loc_id'] == get_loc_id(pickup_loc_name)) &\n",
    "            (df_trips['dropoff_loc_id'] == get_loc_id(dropoff_loc_name)) &\n",
    "            (df_trips['trip_distance'] == trip_distance) &\n",
    "            (df_trips['fare_amount'] == fare_amount))\n",
    "    \n",
    "    if cond.any():\n",
    "        trip_id = df_trips[cond]['trip_id'].item()\n",
    "        return trip_id\n",
    "    else:\n",
    "        return None\n"
   ]
  },
  {
   "cell_type": "code",
   "execution_count": 6,
   "id": "ab3a80a0",
   "metadata": {
    "ExecuteTime": {
     "end_time": "2022-09-04T15:30:39.601036Z",
     "start_time": "2022-09-04T15:30:39.594050Z"
    }
   },
   "outputs": [],
   "source": [
    "def add_driver(driver):\n",
    "    # get driver lastname and given name\n",
    "    last_name, given_name = [x.strip() for x in driver.split(',')]\n",
    "\n",
    "    fn = 'drivers_test.csv'\n",
    "    cols = ['driver_id', 'given_name', 'last_name']\n",
    "\n",
    "    # check if 'divers.csv' exists; \n",
    "    check_create_file(fn, cols)\n",
    "\n",
    "    # load drivers df\n",
    "    df_drivers = pd.read_csv(fn)\n",
    "\n",
    "    # set driver_id\n",
    "    if pd.isnull(df_drivers['driver_id'].max()):\n",
    "        driver_id = 1\n",
    "    else:\n",
    "        driver_id = df_drivers['driver_id'].max() + 1\n",
    "\n",
    "    # log driver details\n",
    "    if get_driver_id(driver) is None:\n",
    "        data = {\n",
    "            'driver_id' : [driver_id],\n",
    "            'given_name': [given_name],\n",
    "            'last_name' : [last_name]\n",
    "        }\n",
    "        pd.DataFrame(data).to_csv(fn, mode='a', index=False, header=False)\n",
    "        print('driver added')\n",
    "        return\n",
    "    else:\n",
    "        print('driver already in db')\n",
    "        return # raise SakayDBError(ValueError)\n"
   ]
  },
  {
   "cell_type": "code",
   "execution_count": 7,
   "id": "37c6e7c4",
   "metadata": {
    "ExecuteTime": {
     "end_time": "2022-09-04T15:30:42.480617Z",
     "start_time": "2022-09-04T15:30:42.468576Z"
    }
   },
   "outputs": [],
   "source": [
    "def add_trip(driver, pickup_datetime, dropoff_datetime, passenger_count,\n",
    "             pickup_loc_name, dropoff_loc_name, trip_distance, fare_amount):\n",
    "    fn = 'trips_test.csv'\n",
    "    cols = ['trip_id', 'driver_id', 'pickup_datetime',\n",
    "            'dropoff_datetime', 'passenger_count', 'pickup_loc_id',\n",
    "            'dropoff_loc_id', 'trip_distance', 'fare_amount']\n",
    "    \n",
    "    # check if 'trips.csv' exists; \n",
    "    check_create_file(fn, cols)\n",
    "    \n",
    "    # load df_trips\n",
    "    df_trips = pd.read_csv(fn)\n",
    "    \n",
    "    # add driver to drivers.csv\n",
    "    add_driver(driver)\n",
    "\n",
    "    # set trip_id\n",
    "    if pd.isnull(df_trips['trip_id'].max()):\n",
    "        trip_id = 1\n",
    "    else:\n",
    "        trip_id = df_trips['trip_id'].max() + 1\n",
    "    \n",
    "    # verify and log trip\n",
    "    if get_trip_id(driver, pickup_datetime, dropoff_datetime, passenger_count,\n",
    "                   pickup_loc_name, dropoff_loc_name, trip_distance, fare_amount) is None:\n",
    "        trip_data = {\n",
    "            'trip_id': [trip_id],\n",
    "            'driver_id' : [get_driver_id(driver)],\n",
    "            'pickup_datetime' : pickup_datetime,\n",
    "            'dropoff_datetime' : dropoff_datetime,\n",
    "            'passenger_count' : [passenger_count],\n",
    "            'pickup_loc_id' : [get_loc_id(pickup_loc_name)],\n",
    "            'dropoff_loc_id' : [get_loc_id(dropoff_loc_name)],\n",
    "            'trip_distance' : [trip_distance],\n",
    "            'fare_amount' : [fare_amount]\n",
    "        }\n",
    "                \n",
    "        pd.DataFrame(trip_data).to_csv(fn, encoding='utf-8', mode='a', index=False, header=False)\n",
    "        print('trip added')\n",
    "        return\n",
    "    else:\n",
    "        print('trip already in db')\n",
    "        return # raise SakayDBError(ValueError)\n"
   ]
  },
  {
   "cell_type": "code",
   "execution_count": null,
   "id": "12e95778",
   "metadata": {
    "ExecuteTime": {
     "end_time": "2022-09-04T05:49:03.219134Z",
     "start_time": "2022-09-04T05:49:03.187257Z"
    }
   },
   "outputs": [],
   "source": [
    "# driver = 'Lazaro, BJ'\n",
    "# pickup_datetime = '09:00:00,03-09-2022'\n",
    "# dropoff_datetime = '09:45:00,03-09-2022'\n",
    "# passenger_count = 3\n",
    "# pickup_loc_name = 'Melvin'\n",
    "# dropoff_loc_name = 'Loyola Heights'\n",
    "# trip_distance = 12.1\n",
    "# fare_amount = 321\n",
    "\n",
    "# add_trip(driver, pickup_datetime, dropoff_datetime, passenger_count,\n",
    "#          pickup_loc_name, dropoff_loc_name, trip_distance, fare_amount)"
   ]
  }
 ],
 "metadata": {
  "hide_input": false,
  "kernelspec": {
   "display_name": "Python 3 (ipykernel)",
   "language": "python",
   "name": "python3"
  },
  "language_info": {
   "codemirror_mode": {
    "name": "ipython",
    "version": 3
   },
   "file_extension": ".py",
   "mimetype": "text/x-python",
   "name": "python",
   "nbconvert_exporter": "python",
   "pygments_lexer": "ipython3",
   "version": "3.9.12"
  }
 },
 "nbformat": 4,
 "nbformat_minor": 5
}
