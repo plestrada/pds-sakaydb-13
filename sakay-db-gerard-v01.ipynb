{
 "cells": [
  {
   "cell_type": "markdown",
   "id": "e6691cd1",
   "metadata": {
    "ExecuteTime": {
     "end_time": "2022-08-29T08:09:56.727129Z",
     "start_time": "2022-08-29T08:09:56.721496Z"
    }
   },
   "source": [
    "# Import Important Python Libraries"
   ]
  },
  {
   "cell_type": "code",
   "execution_count": 1,
   "id": "97639a4b",
   "metadata": {
    "ExecuteTime": {
     "end_time": "2022-09-02T06:00:32.451941Z",
     "start_time": "2022-09-02T06:00:27.431572Z"
    }
   },
   "outputs": [
    {
     "name": "stderr",
     "output_type": "stream",
     "text": [
      "Matplotlib created a temporary config/cache directory at /tmp/matplotlib-9au_yax6 because the default path (/home/gcatangui/.cache/matplotlib) is not a writable directory; it is highly recommended to set the MPLCONFIGDIR environment variable to a writable directory, in particular to speed up the import of Matplotlib and to better support multiprocessing.\n",
      "UsageError: Line magic function `%` not found.\n"
     ]
    }
   ],
   "source": [
    "import numpy as np\n",
    "import pandas as pd\n",
    "import matplotlib.pyplot as plt\n",
    "import math\n",
    "\n",
    "% matplotlib inline"
   ]
  },
  {
   "cell_type": "markdown",
   "id": "5ee4ebe7",
   "metadata": {},
   "source": [
    "# Import Datasets"
   ]
  },
  {
   "cell_type": "code",
   "execution_count": 2,
   "id": "2e6ba7ef",
   "metadata": {
    "ExecuteTime": {
     "end_time": "2022-09-02T06:00:38.574847Z",
     "start_time": "2022-09-02T06:00:38.444724Z"
    }
   },
   "outputs": [],
   "source": [
    "driver_test = pd.read_csv('drivers_test.csv')\n",
    "driver_test2 = pd.read_csv('drivers_test2.csv')\n",
    "locations = pd.read_csv('locations.csv')\n",
    "trips_test = pd.read_csv('trips_test.csv')\n",
    "trips_test2 = pd.read_csv('trips_test2.csv')"
   ]
  },
  {
   "cell_type": "code",
   "execution_count": 43,
   "id": "897124a8",
   "metadata": {
    "ExecuteTime": {
     "end_time": "2022-09-02T08:09:34.824808Z",
     "start_time": "2022-09-02T08:09:34.817384Z"
    },
    "scrolled": true
   },
   "outputs": [
    {
     "name": "stdout",
     "output_type": "stream",
     "text": [
      "(4, 9)\n",
      "(10000, 9)\n"
     ]
    }
   ],
   "source": [
    "print(trips_test.shape)\n",
    "print(trips_test2.shape)"
   ]
  },
  {
   "cell_type": "code",
   "execution_count": 20,
   "id": "19191820",
   "metadata": {
    "ExecuteTime": {
     "end_time": "2022-09-02T06:50:35.384467Z",
     "start_time": "2022-09-02T06:50:35.284654Z"
    },
    "scrolled": false
   },
   "outputs": [
    {
     "name": "stderr",
     "output_type": "stream",
     "text": [
      "/tmp/ipykernel_135/834310822.py:3: FutureWarning: The frame.append method is deprecated and will be removed from pandas in a future version. Use pandas.concat instead.\n",
      "  trips = trips_test.append(trips_test2)\n"
     ]
    },
    {
     "data": {
      "text/html": [
       "<div>\n",
       "<style scoped>\n",
       "    .dataframe tbody tr th:only-of-type {\n",
       "        vertical-align: middle;\n",
       "    }\n",
       "\n",
       "    .dataframe tbody tr th {\n",
       "        vertical-align: top;\n",
       "    }\n",
       "\n",
       "    .dataframe thead th {\n",
       "        text-align: right;\n",
       "    }\n",
       "</style>\n",
       "<table border=\"1\" class=\"dataframe\">\n",
       "  <thead>\n",
       "    <tr style=\"text-align: right;\">\n",
       "      <th></th>\n",
       "      <th>trip_id</th>\n",
       "      <th>driver_id</th>\n",
       "      <th>pickup_datetime</th>\n",
       "      <th>dropoff_datetime</th>\n",
       "      <th>passenger_count</th>\n",
       "      <th>pickup_loc_id</th>\n",
       "      <th>dropoff_loc_id</th>\n",
       "      <th>trip_distance</th>\n",
       "      <th>fare_amount</th>\n",
       "    </tr>\n",
       "  </thead>\n",
       "  <tbody>\n",
       "    <tr>\n",
       "      <th>0</th>\n",
       "      <td>1</td>\n",
       "      <td>1</td>\n",
       "      <td>08:13:00,15-05-2022</td>\n",
       "      <td>08:46:00,15-05-2022</td>\n",
       "      <td>2</td>\n",
       "      <td>1</td>\n",
       "      <td>2</td>\n",
       "      <td>17.600000</td>\n",
       "      <td>412.000000</td>\n",
       "    </tr>\n",
       "    <tr>\n",
       "      <th>1</th>\n",
       "      <td>2</td>\n",
       "      <td>2</td>\n",
       "      <td>14:13:00,31-12-2022</td>\n",
       "      <td>14:46:00,31-12-2022</td>\n",
       "      <td>1</td>\n",
       "      <td>3</td>\n",
       "      <td>4</td>\n",
       "      <td>15.100000</td>\n",
       "      <td>371.000000</td>\n",
       "    </tr>\n",
       "    <tr>\n",
       "      <th>2</th>\n",
       "      <td>3</td>\n",
       "      <td>3</td>\n",
       "      <td>09:13:00,16-08-2022</td>\n",
       "      <td>09:46:00,16-08-2022</td>\n",
       "      <td>3</td>\n",
       "      <td>5</td>\n",
       "      <td>2</td>\n",
       "      <td>8.900000</td>\n",
       "      <td>235.000000</td>\n",
       "    </tr>\n",
       "    <tr>\n",
       "      <th>3</th>\n",
       "      <td>4</td>\n",
       "      <td>1</td>\n",
       "      <td>15:13:00,09-09-2022</td>\n",
       "      <td>15:46:00,09-09-2022</td>\n",
       "      <td>2</td>\n",
       "      <td>6</td>\n",
       "      <td>7</td>\n",
       "      <td>31.200000</td>\n",
       "      <td>716.000000</td>\n",
       "    </tr>\n",
       "    <tr>\n",
       "      <th>0</th>\n",
       "      <td>0</td>\n",
       "      <td>116</td>\n",
       "      <td>20:22:02,01-02-2022</td>\n",
       "      <td>20:41:26,01-02-2022</td>\n",
       "      <td>1</td>\n",
       "      <td>27</td>\n",
       "      <td>17</td>\n",
       "      <td>57.335208</td>\n",
       "      <td>75.834505</td>\n",
       "    </tr>\n",
       "    <tr>\n",
       "      <th>...</th>\n",
       "      <td>...</td>\n",
       "      <td>...</td>\n",
       "      <td>...</td>\n",
       "      <td>...</td>\n",
       "      <td>...</td>\n",
       "      <td>...</td>\n",
       "      <td>...</td>\n",
       "      <td>...</td>\n",
       "      <td>...</td>\n",
       "    </tr>\n",
       "    <tr>\n",
       "      <th>9995</th>\n",
       "      <td>9995</td>\n",
       "      <td>12</td>\n",
       "      <td>19:38:54,18-08-2022</td>\n",
       "      <td>19:58:18,18-08-2022</td>\n",
       "      <td>3</td>\n",
       "      <td>43</td>\n",
       "      <td>28</td>\n",
       "      <td>24.905899</td>\n",
       "      <td>55.566187</td>\n",
       "    </tr>\n",
       "    <tr>\n",
       "      <th>9996</th>\n",
       "      <td>9996</td>\n",
       "      <td>10</td>\n",
       "      <td>14:56:10,15-03-2022</td>\n",
       "      <td>15:15:34,15-03-2022</td>\n",
       "      <td>1</td>\n",
       "      <td>13</td>\n",
       "      <td>49</td>\n",
       "      <td>77.739584</td>\n",
       "      <td>88.587240</td>\n",
       "    </tr>\n",
       "    <tr>\n",
       "      <th>9997</th>\n",
       "      <td>9997</td>\n",
       "      <td>134</td>\n",
       "      <td>08:13:38,15-06-2022</td>\n",
       "      <td>08:33:02,15-06-2022</td>\n",
       "      <td>0</td>\n",
       "      <td>14</td>\n",
       "      <td>40</td>\n",
       "      <td>73.393433</td>\n",
       "      <td>85.870896</td>\n",
       "    </tr>\n",
       "    <tr>\n",
       "      <th>9998</th>\n",
       "      <td>9998</td>\n",
       "      <td>48</td>\n",
       "      <td>11:53:35,01-02-2022</td>\n",
       "      <td>12:12:59,01-02-2022</td>\n",
       "      <td>0</td>\n",
       "      <td>31</td>\n",
       "      <td>23</td>\n",
       "      <td>99.555478</td>\n",
       "      <td>102.222174</td>\n",
       "    </tr>\n",
       "    <tr>\n",
       "      <th>9999</th>\n",
       "      <td>9999</td>\n",
       "      <td>41</td>\n",
       "      <td>21:08:46,18-01-2022</td>\n",
       "      <td>21:28:10,18-01-2022</td>\n",
       "      <td>2</td>\n",
       "      <td>32</td>\n",
       "      <td>31</td>\n",
       "      <td>32.304084</td>\n",
       "      <td>60.190052</td>\n",
       "    </tr>\n",
       "  </tbody>\n",
       "</table>\n",
       "<p>10004 rows × 9 columns</p>\n",
       "</div>"
      ],
      "text/plain": [
       "      trip_id  driver_id      pickup_datetime     dropoff_datetime  \\\n",
       "0           1          1  08:13:00,15-05-2022  08:46:00,15-05-2022   \n",
       "1           2          2  14:13:00,31-12-2022  14:46:00,31-12-2022   \n",
       "2           3          3  09:13:00,16-08-2022  09:46:00,16-08-2022   \n",
       "3           4          1  15:13:00,09-09-2022  15:46:00,09-09-2022   \n",
       "0           0        116  20:22:02,01-02-2022  20:41:26,01-02-2022   \n",
       "...       ...        ...                  ...                  ...   \n",
       "9995     9995         12  19:38:54,18-08-2022  19:58:18,18-08-2022   \n",
       "9996     9996         10  14:56:10,15-03-2022  15:15:34,15-03-2022   \n",
       "9997     9997        134  08:13:38,15-06-2022  08:33:02,15-06-2022   \n",
       "9998     9998         48  11:53:35,01-02-2022  12:12:59,01-02-2022   \n",
       "9999     9999         41  21:08:46,18-01-2022  21:28:10,18-01-2022   \n",
       "\n",
       "      passenger_count  pickup_loc_id  dropoff_loc_id  trip_distance  \\\n",
       "0                   2              1               2      17.600000   \n",
       "1                   1              3               4      15.100000   \n",
       "2                   3              5               2       8.900000   \n",
       "3                   2              6               7      31.200000   \n",
       "0                   1             27              17      57.335208   \n",
       "...               ...            ...             ...            ...   \n",
       "9995                3             43              28      24.905899   \n",
       "9996                1             13              49      77.739584   \n",
       "9997                0             14              40      73.393433   \n",
       "9998                0             31              23      99.555478   \n",
       "9999                2             32              31      32.304084   \n",
       "\n",
       "      fare_amount  \n",
       "0      412.000000  \n",
       "1      371.000000  \n",
       "2      235.000000  \n",
       "3      716.000000  \n",
       "0       75.834505  \n",
       "...           ...  \n",
       "9995    55.566187  \n",
       "9996    88.587240  \n",
       "9997    85.870896  \n",
       "9998   102.222174  \n",
       "9999    60.190052  \n",
       "\n",
       "[10004 rows x 9 columns]"
      ]
     },
     "metadata": {},
     "output_type": "display_data"
    }
   ],
   "source": [
    "#Append Datasets\n",
    "trips = trips_test.append(trips_test2)\n",
    "trips_csv = trips.to_csv('trips.csv') # Save data to CSV\n",
    "display(trips)"
   ]
  },
  {
   "cell_type": "markdown",
   "id": "75688b01",
   "metadata": {},
   "source": [
    "#### Adding trips in the database\n",
    "\n",
    "Create a method `add_trips` that accepts a list of trips in the form of dictionaries with the following keys:\n",
    "  - `driver`: trip driver as a string in `Last name, Given name` format\n",
    "  - `pickup_datetime`: datetime of pickup as string with format \"hh:mm:ss,DD-MM-YYYY\"\n",
    "  - `dropoff_datetime`: datetime of dropoff as string with format \"hh:mm:ss,DD-MM-YYYY\"\n",
    "  - `passenger_count`: number of passengers as integer\n",
    "  - `pickup_loc_name`: zone as a string, (e.g., Pine View, Legazpi Village)\n",
    "  - `dropoff_loc_name`: zone as a string, (e.g., Pine View, Legazpi Village)\n",
    "  - `trip_distance`: distance in meters (float)\n",
    "  - `fare_amount`: amount paid by passenger (float)\n",
    "  \n",
    "The method should add each trip to the database. \n",
    "It returns a list of the `trip_ids`s of successfully added trips. If a trip is already in the database, skip it and print: `Warning: trip index {i} is already in the database. Skipping...`\n",
    "\n",
    "If a trip has invalid or incomplete information, skip it and print `Warning: trip index {i} has invalid or incomplete information. Skipping...` instead. The *trip index* is the zero-based index of the trip in the passed list of trips."
   ]
  },
  {
   "cell_type": "code",
   "execution_count": 45,
   "id": "e06af2e7",
   "metadata": {
    "ExecuteTime": {
     "end_time": "2022-09-02T08:26:13.455459Z",
     "start_time": "2022-09-02T08:26:13.439073Z"
    }
   },
   "outputs": [],
   "source": [
    "class add_trips():\n",
    "    '''\n",
    "    Define the classes required\n",
    "    '''\n",
    "    def __init__(self, trips):\n",
    "        self.trips\n",
    "    \n",
    "    def __init__(self, lastname, givenname): \n",
    "        self.lastname = lastname\n",
    "        self.givename = givenname\n",
    "    \n",
    "    def __init__(self,pickup_datetime):\n",
    "        '''\n",
    "        Format required is hh:mm:ss,DD-MM-YYYY\n",
    "        '''\n",
    "        self.pickup_datetime = pickup_datetime\n",
    "    \n",
    "    def __init__(self, dropoff_datetime):\n",
    "        '''\n",
    "        Format required is hh:mm:ss,DD-MM-YYYY\n",
    "        '''\n",
    "        self.dropoff_datetime = dropoff_datetime\n",
    "    \n",
    "    def __init__(self, dropoff_loc_name):\n",
    "        self.dropoff_loc_name = dropoff_loc_name\n",
    "    \n",
    "    def __init__(self, pickup_loc_name):\n",
    "        self.pickup_loc_name = pickup_loc_name\n",
    "    \n",
    "    def __init__(self, trip_distance):\n",
    "        self.trip_distance = trip_distance\n",
    "        \n",
    "    def __init__(self, fare_amount):\n",
    "        self.fare_amount = fare_amount\n",
    "        \n",
    "    #Add Classes to Database\n",
    "    def add_to_db():\n",
    "        \n",
    "        return\n",
    "    \n",
    "    #Validate if trip is already in the database\n",
    "    def validate_trip(self, trip_id):\n",
    "        if self.trip_id.isin(remove_trip) == True:\n",
    "            print('Trip_id is Trips.csv')\n",
    "        else: \n",
    "            raise TypeError(\"trip index {i} is already in the database. Skipping...\")\n",
    "        "
   ]
  },
  {
   "cell_type": "markdown",
   "id": "b1adf957",
   "metadata": {},
   "source": [
    "#### Deleting a trip in the database\n",
    "\n",
    "Create a method `delete_trip` that accepts the trip_id to delete then removes it from `trips.csv` . It will raise a `SakayDBError` if the `trip_id` is not found"
   ]
  },
  {
   "cell_type": "code",
   "execution_count": 36,
   "id": "680d4661",
   "metadata": {
    "ExecuteTime": {
     "end_time": "2022-09-02T07:05:19.639324Z",
     "start_time": "2022-09-02T07:05:19.628470Z"
    }
   },
   "outputs": [],
   "source": [
    "class delete_trip():\n",
    "    # Instantiate Class Requirements\n",
    "    def __init__(self, trip_id):\n",
    "        self.trip_id = trip_id\n",
    "\n",
    "    # Remove Trip from trips.csv\n",
    "    def remove_trip(self, trip_id):\n",
    "        # Load/define trips_csv\n",
    "        trips_csv = set(trips['trip_id'].to_list())\n",
    "        # remove from trips_csv\n",
    "        remove_trip = trips_csv.remove(trip_id)\n",
    "        return remove_trip.to_csv('trips.csv')\n",
    "\n",
    "    # Rise error if trip_id is not found\n",
    "    def validate_trip(self, trip_id):\n",
    "        if self.trip_id.isin(remove_trip) == True:\n",
    "            print('Trip_id is Trips.csv')\n",
    "        else: \n",
    "            raise TypeError(\"SakayDBError\")"
   ]
  },
  {
   "cell_type": "code",
   "execution_count": null,
   "id": "e04a3f96",
   "metadata": {},
   "outputs": [],
   "source": []
  }
 ],
 "metadata": {
  "kernelspec": {
   "display_name": "Python 3 (ipykernel)",
   "language": "python",
   "name": "python3"
  },
  "language_info": {
   "codemirror_mode": {
    "name": "ipython",
    "version": 3
   },
   "file_extension": ".py",
   "mimetype": "text/x-python",
   "name": "python",
   "nbconvert_exporter": "python",
   "pygments_lexer": "ipython3",
   "version": "3.9.13"
  }
 },
 "nbformat": 4,
 "nbformat_minor": 5
}
