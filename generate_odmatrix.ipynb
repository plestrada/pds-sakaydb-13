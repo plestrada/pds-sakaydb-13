{
 "cells": [
  {
   "cell_type": "markdown",
   "id": "7abed08d",
   "metadata": {},
   "source": [
    "### Generate Origin-Destination Matrix [Updated]\n",
    "\n",
    "Create a method `generate_odmatrix` that takes in a `date_range` input parameter and returns a `pandas.DataFrame` with the `trips.csv` `pickup_loc_name` as the row names (dataframe index) and `dropoff_loc_name` as the columns. The values for each row-column combination is the average daily number of vehicle trips that occured within the `date_range` specified.\n",
    "\n",
    "  - `date_range` : a *range saerch* that takes a tuple of datetime strings, and filters trips based on `pickup_datetime`. Defaults to `None`, in which case all dates are included.\n",
    "      - Case 1: tuple like `(value,None)` returns all entries from `value` (end inclusive) sorted chronologically \n",
    "      - Case 2: tuple like `(None,value)` returns all entries up to `value` (end inclusive) sorted chronologically \n",
    "      - Case 3: tuple like `(value1,value2)`  returns values between `value1` and `value2` (end inclusive) sorted chronologically\n",
    "      \n",
    "Input errors to the `date_range` parameter should be handled like that of `search_trips`."
   ]
  },
  {
   "cell_type": "code",
   "execution_count": null,
   "id": "61feae36",
   "metadata": {
    "ExecuteTime": {
     "end_time": "2022-09-07T14:27:40.915789Z",
     "start_time": "2022-09-07T14:27:40.696797Z"
    }
   },
   "outputs": [],
   "source": [
    "import numpy as np\n",
    "import pandas as pd"
   ]
  },
  {
   "cell_type": "code",
   "execution_count": null,
   "id": "7d8dd430",
   "metadata": {
    "ExecuteTime": {
     "end_time": "2022-09-07T14:46:46.731203Z",
     "start_time": "2022-09-07T14:46:46.714145Z"
    }
   },
   "outputs": [],
   "source": [
    "def generate_odmatrix(date_range):\n",
    "    \n",
    "    try:\n",
    "        trips = pd.read_csv(f'trips_test2.csv')\n",
    "        locations = pd.read_csv(f'locations.csv')\n",
    "\n",
    "        trips['pickup_datetime'] = pd.to_datetime(trips['pickup_datetime'], format='%H:%M:%S,%d-%m-%Y')\n",
    "        trips['count'] = 1\n",
    "        \n",
    "        if len(date_range) > 2:\n",
    "            raise ValueError # raise SakayDBError\n",
    "\n",
    "        if date_range is None:\n",
    "            trips = trips.copy()\n",
    "\n",
    "        elif date_range[1] is None:\n",
    "            date_range = [pd.to_datetime(x, format='%H:%M:%S,%d-%m-%Y') for x in date_range]\n",
    "            trips = trips[trips['pickup_datetime']>=date_range[0]]\n",
    "\n",
    "        elif date_range[0] is None:\n",
    "            date_range = [pd.to_datetime(x, format='%H:%M:%S,%d-%m-%Y') for x in date_range]\n",
    "            trips = trips[trips['pickup_datetime']<=date_range[1]]\n",
    "\n",
    "        elif date_range[0] is not None and date_range[1] is not None:\n",
    "            date_range = [pd.to_datetime(x, format='%H:%M:%S,%d-%m-%Y') for x in date_range]\n",
    "            trips = trips[(trips['pickup_datetime']>date_range[0]) & (trips['pickup_datetime']<=date_range[1])]\n",
    "\n",
    "        trips = trips.merge(locations, left_on='pickup_loc_id', right_on = 'location_id', how = 'left').rename(columns={'loc_name':'pickup_loc_name'})\n",
    "        trips = trips.merge(locations, left_on='dropoff_loc_id', right_on = 'location_id', how = 'left').rename(columns={'loc_name':'dropoff_loc_name'})\n",
    "        trips = trips.drop(columns=['location_id_x', 'location_id_y', 'pickup_loc_id', 'dropoff_loc_id'])\n",
    "\n",
    "        trips = trips[['count','pickup_loc_name', 'dropoff_loc_name', 'pickup_datetime']].copy()\n",
    "        trips['pickup_date'] = trips['pickup_datetime'].dt.strftime('%Y-%m-%d') \n",
    "        trips.drop(columns='pickup_datetime', inplace = True)\n",
    "\n",
    "        od_matrix = trips.groupby(['pickup_loc_name', 'dropoff_loc_name', 'pickup_date'], as_index=False).sum()\n",
    "        od_matrix = od_matrix.pivot_table(columns='pickup_loc_name', index='dropoff_loc_name', aggfunc='mean', fill_value=0)\n",
    "        od_matrix.columns = [x[1] for x in od_matrix.columns]\n",
    "\n",
    "        return od_matrix\n",
    "    \n",
    "    except:\n",
    "        raise ValueError # raise SakayDBError"
   ]
  }
 ],
 "metadata": {
  "hide_input": false,
  "kernelspec": {
   "display_name": "Python 3 (ipykernel)",
   "language": "python",
   "name": "python3"
  },
  "language_info": {
   "codemirror_mode": {
    "name": "ipython",
    "version": 3
   },
   "file_extension": ".py",
   "mimetype": "text/x-python",
   "name": "python",
   "nbconvert_exporter": "python",
   "pygments_lexer": "ipython3",
   "version": "3.9.12"
  }
 },
 "nbformat": 4,
 "nbformat_minor": 5
}
