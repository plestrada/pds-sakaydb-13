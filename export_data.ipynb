{
 "cells": [
  {
   "cell_type": "code",
   "execution_count": 4,
   "id": "9c13a84a",
   "metadata": {},
   "outputs": [],
   "source": [
    "import pandas as pd"
   ]
  },
  {
   "cell_type": "code",
   "execution_count": 32,
   "id": "d787c8a3",
   "metadata": {},
   "outputs": [],
   "source": [
    "def export_data(self):\n",
    "    drivers = pd.read_csv('drivers_test.csv')\n",
    "    locations = pd.read_csv('locations.csv')\n",
    "    trips = pd.read_csv('trips_test.csv')\n",
    "\n",
    "    drivers['last_name'] = drivers['last_name'].str.capitalize()\n",
    "    drivers['given_name'] = drivers['given_name'].str.capitalize()\n",
    "    trips = trips.merge(locations, left_on='pickup_loc_id', right_on='location_id', how=\"left\")\n",
    "    trips.rename(columns = {'loc_name': 'pickup_loc_name'}, inplace=True) \n",
    "    trips = trips.merge(locations, left_on='dropoff_loc_id', right_on='location_id', how=\"left\")\n",
    "    trips.rename(columns = {'loc_name': 'dropoff_loc_name'}, inplace=True) \n",
    "    trips\n",
    "    merged_df = trips.merge(drivers, left_on='driver_id', right_on='driver_id', how=\"outer\")\n",
    "    merged_df = merged_df.sort_values(by='trip_id')\n",
    "    merged_df.rename(columns= {'given_name':'driver_givenname', 'last_name': 'driver_lastname'}, inplace=True)\n",
    "    merged_df = merged_df[['driver_givenname', 'driver_lastname', 'pickup_datetime', \n",
    "                         'dropoff_datetime', 'passenger_count', 'pickup_loc_name', \n",
    "                         'dropoff_loc_name', 'trip_distance', \n",
    "                         'fare_amount']].copy()\n",
    "    return merged_df"
   ]
  },
  {
   "cell_type": "code",
   "execution_count": null,
   "id": "b10860f2",
   "metadata": {},
   "outputs": [],
   "source": []
  },
  {
   "cell_type": "code",
   "execution_count": null,
   "id": "2249e1c4",
   "metadata": {},
   "outputs": [],
   "source": []
  },
  {
   "cell_type": "code",
   "execution_count": null,
   "id": "f6f1ffda",
   "metadata": {},
   "outputs": [],
   "source": []
  },
  {
   "cell_type": "code",
   "execution_count": null,
   "id": "a6fd7971",
   "metadata": {},
   "outputs": [],
   "source": []
  },
  {
   "cell_type": "code",
   "execution_count": null,
   "id": "a02f53f6",
   "metadata": {},
   "outputs": [],
   "source": []
  },
  {
   "cell_type": "code",
   "execution_count": null,
   "id": "91656888",
   "metadata": {},
   "outputs": [],
   "source": []
  }
 ],
 "metadata": {
  "kernelspec": {
   "display_name": "Python 3 (ipykernel)",
   "language": "python",
   "name": "python3"
  },
  "language_info": {
   "codemirror_mode": {
    "name": "ipython",
    "version": 3
   },
   "file_extension": ".py",
   "mimetype": "text/x-python",
   "name": "python",
   "nbconvert_exporter": "python",
   "pygments_lexer": "ipython3",
   "version": "3.9.12"
  }
 },
 "nbformat": 4,
 "nbformat_minor": 5
}
